{
 "cells": [
  {
   "cell_type": "code",
   "execution_count": 1,
   "metadata": {},
   "outputs": [
    {
     "name": "stdout",
     "output_type": "stream",
     "text": [
      "Starting complete B&B tree analysis pipeline for: output_2bwoeb_CVRP_120_1.txt\n",
      "================================================================================\n",
      "=== STAGE 1: Extracting tree data from output_2bwoeb_CVRP_120_1.txt ===\n",
      "Instance name: CVRP_120_1\n",
      "Found 31 tree sections\n",
      "Tree detail file saved: results/tree_dg_120_1.txt\n",
      "Stage 1 completed successfully\n",
      "\n",
      "=== STAGE 2: Building structured tree from tree_dg_120_1.txt ===\n",
      "Parsed 31 nodes from tree detail file\n",
      "Built tree structure with root node 0\n",
      "Arranged 31 nodes by tree level\n",
      "  Finding optimal k value...\n",
      "    Optimal k = 0.700, Good estimate ratio = 0.867\n",
      "Structured tree file saved: results/structured_tree_dg_120_1.txt\n",
      "Stage 2 completed successfully\n",
      "\n",
      "Creating matplotlib figure...\n",
      "=== STAGE 3: Creating tree visualization ===\n",
      "Visualizing tree for Unknown with 31 nodes\n",
      "Created graph with 31 nodes and 30 edges\n",
      "Calculated positions for 31 nodes\n",
      "Drawing tree visualization...\n",
      "Found 1 optimal nodes (0% gap): [27]\n",
      "Stage 3 completed successfully\n",
      "Saving plot to: results/bb_tree_analysis_CVRP_120_1.png\n",
      "Plot saved successfully\n",
      "\n",
      "================================================================================\n",
      "PIPELINE SUMMARY\n",
      "================================================================================\n",
      "\n",
      "--- Tree Statistics for CVRP_120_1 ---\n",
      "Total nodes: 31\n",
      "Optimal nodes (0% gap): 0\n",
      "Real subtree counts - Min: 1, Max: 31, Avg: 4.9\n",
      "Estimated subtree sizes - Min: 1.0, Max: 57.7, Avg: 5.3\n",
      "Nodes with infinite estimates: 0\n",
      "Estimation quality (all nodes):\n",
      "  Good estimates: 29 (93.5%)\n",
      "  Over-estimates: 1 (3.2%)\n",
      "  Under-estimates: 1 (3.2%)\n",
      "Estimation quality (excluding real=1 nodes):\n",
      "  Good estimates: 13 (86.7%)\n",
      "  Over-estimates: 1 (6.7%)\n",
      "  Under-estimates: 1 (6.7%)\n",
      "\n",
      "Level-wise estimation quality (excluding real=1 nodes):\n",
      "  Level 0: 100.0% good (1/1)\n",
      "  Level 1: 50.0% good (1/2)\n",
      "  Level 2: 100.0% good (3/3)\n",
      "  Level 3: 100.0% good (3/3)\n",
      "  Level 4: 66.7% good (2/3)\n",
      "  Level 5: 100.0% good (2/2)\n",
      "  Level 6: 100.0% good (1/1)\n",
      "\n",
      "Pipeline completed successfully!\n",
      "Intermediate files saved in: results/\n",
      "\n",
      "Pipeline execution completed successfully!\n"
     ]
    }
   ],
   "source": [
    "!python3 bbt_plotter.py output_2bwoeb_CVRP_120_1.txt --no-show --save-intermediates --output-dir results/"
   ]
  },
  {
   "cell_type": "code",
   "execution_count": 3,
   "metadata": {},
   "outputs": [
    {
     "name": "stdout",
     "output_type": "stream",
     "text": [
      "🌳 Analyzing tree from: output_2bwoeb_CVRP_120_1.txt\n",
      "🔄 Processing tree... (this may take a moment)\n",
      "✅ Tree analysis completed!\n",
      "🌳 Analyzing tree from: output_2bwoeb_CVRP_120_1.txt\n",
      "📁 Saving results to: tree_analysis\n",
      "🔄 Processing tree... (this may take a moment)\n",
      "✅ Tree analysis completed!\n",
      "🖼️  Picture saved: tree_analysis/bb_tree_analysis_CVRP_120_1.png\n",
      "🌳 Analyzing tree from: output_2bwoeb_CVRP_120_1.txt\n",
      "📁 Saving results to: tree_pictures\n",
      "🔄 Processing tree... (this may take a moment)\n",
      "✅ Tree analysis completed!\n",
      "🖼️  Picture saved: tree_pictures/bb_tree_analysis_CVRP_120_1.png\n",
      "📊 Displaying saved tree:\n",
      "Picture saved at: tree_pictures/bb_tree_analysis_CVRP_120_1.png\n"
     ]
    }
   ],
   "source": [
    "# In Jupyter notebook\n",
    "from simple_bbt import analyze_tree, show_tree, save_tree_pic\n",
    "\n",
    "# Just show the tree (easiest)\n",
    "analyze_tree(\"output_2bwoeb_CVRP_120_1.txt\")\n",
    "\n",
    "# Show tree AND save picture\n",
    "pic_path = analyze_tree(\"output_2bwoeb_CVRP_120_1.txt\", save_pic=True)\n",
    "\n",
    "# Just save picture (no display)\n",
    "pic_path = save_tree_pic(\"output_2bwoeb_CVRP_120_1.txt\")\n",
    "print(f\"Picture saved at: {pic_path}\")"
   ]
  },
  {
   "cell_type": "code",
   "execution_count": null,
   "metadata": {},
   "outputs": [],
   "source": []
  }
 ],
 "metadata": {
  "kernelspec": {
   "display_name": "Python 3",
   "language": "python",
   "name": "python3"
  },
  "language_info": {
   "codemirror_mode": {
    "name": "ipython",
    "version": 3
   },
   "file_extension": ".py",
   "mimetype": "text/x-python",
   "name": "python",
   "nbconvert_exporter": "python",
   "pygments_lexer": "ipython3",
   "version": "3.10.7"
  }
 },
 "nbformat": 4,
 "nbformat_minor": 2
}
